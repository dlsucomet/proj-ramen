{
 "cells": [
  {
   "cell_type": "code",
   "execution_count": 1,
   "metadata": {},
   "outputs": [],
   "source": [
    "# Imports\n",
    "import numpy as np\n",
    "import pandas as pd\n",
    "import matplotlib.pyplot as plt\n",
    "\n",
    "import warnings\n",
    "warnings.filterwarnings('ignore')"
   ]
  },
  {
   "cell_type": "code",
   "execution_count": 2,
   "metadata": {},
   "outputs": [
    {
     "name": "stdout",
     "output_type": "stream",
     "text": [
      "<class 'pandas.core.frame.DataFrame'>\n",
      "RangeIndex: 2580 entries, 0 to 2579\n",
      "Data columns (total 7 columns):\n",
      " #   Column    Non-Null Count  Dtype \n",
      "---  ------    --------------  ----- \n",
      " 0   Review #  2580 non-null   int64 \n",
      " 1   Brand     2580 non-null   object\n",
      " 2   Variety   2580 non-null   object\n",
      " 3   Style     2578 non-null   object\n",
      " 4   Country   2580 non-null   object\n",
      " 5   Stars     2580 non-null   object\n",
      " 6   Top Ten   41 non-null     object\n",
      "dtypes: int64(1), object(6)\n",
      "memory usage: 141.2+ KB\n"
     ]
    }
   ],
   "source": [
    "# Data Retrieval\n",
    "ramen_df = pd.read_csv(\"./ramen-ratings.csv\")\n",
    "ramen_df.info()"
   ]
  },
  {
   "cell_type": "code",
   "execution_count": 3,
   "metadata": {},
   "outputs": [
    {
     "name": "stdout",
     "output_type": "stream",
     "text": [
      "<class 'pandas.core.frame.DataFrame'>\n",
      "RangeIndex: 2577 entries, 0 to 2576\n",
      "Data columns (total 8 columns):\n",
      " #   Column    Non-Null Count  Dtype  \n",
      "---  ------    --------------  -----  \n",
      " 0   index     2577 non-null   int64  \n",
      " 1   Review #  2577 non-null   int64  \n",
      " 2   Brand     2577 non-null   object \n",
      " 3   Variety   2577 non-null   object \n",
      " 4   Style     2575 non-null   object \n",
      " 5   Country   2577 non-null   object \n",
      " 6   Stars     2577 non-null   float64\n",
      " 7   Top Ten   41 non-null     object \n",
      "dtypes: float64(1), int64(2), object(5)\n",
      "memory usage: 161.2+ KB\n"
     ]
    }
   ],
   "source": [
    "# Data Cleaning\n",
    "ramen_df.drop(ramen_df[ramen_df[\"Stars\"] == \"Unrated\"].index, inplace=True)\n",
    "ramen_df.reset_index(inplace=True)\n",
    "ramen_df[\"Stars\"] = pd.to_numeric(ramen_df[\"Stars\"], errors='coerce')\n",
    "ramen_df.info()"
   ]
  },
  {
   "cell_type": "markdown",
   "metadata": {},
   "source": [
    "We're seeing some duplicate countries, as well as some special administrative regions under other countries, so let us perform some mapping for the `Country` column."
   ]
  },
  {
   "cell_type": "code",
   "execution_count": 4,
   "metadata": {},
   "outputs": [
    {
     "data": {
      "text/plain": [
       "array(['Japan', 'Taiwan', 'USA', 'India', 'South Korea', 'Singapore',\n",
       "       'Thailand', 'China/Hong Kong', 'Vietnam', 'Ghana', 'Malaysia',\n",
       "       'Indonesia', 'Nigeria', 'Germany', 'Hungary', 'Mexico', 'Fiji',\n",
       "       'Australia', 'Pakistan', 'Bangladesh', 'Canada', 'Nepal', 'Brazil',\n",
       "       'UK', 'Myanmar', 'Netherlands', 'Cambodia', 'Finland',\n",
       "       'Philippines', 'Sweden', 'Colombia', 'Estonia', 'Holland',\n",
       "       'Poland', 'UAE'], dtype=object)"
      ]
     },
     "execution_count": 4,
     "metadata": {},
     "output_type": "execute_result"
    }
   ],
   "source": [
    "countries_dict = {\n",
    "    \"United States\": \"USA\", \"Hong Kong\": \"China/Hong Kong\", \"China\": \"China/Hong Kong\", \"Dubai\": \"UAE\", \"Sarawak\": \"Malaysia\",\n",
    "    \"Japan\": \"Japan\", \"Taiwan\": \"Taiwan\", \"India\": \"India\", \"South Korea\": \"South Korea\", \"Singapore\": \"Singapore\", \"Thailand\": \"Thailand\", \"Vietnam\": \"Vietnam\", \"Malaysia\": \"Malaysia\", \"Indonesia\": \"Indonesia\", \"Pakistan\": \"Pakistan\", \"Bangladesh\": \"Bangladesh\", \"Nepal\": \"Nepal\", \"Myanmar\": \"Myanmar\", \"Cambodia\": \"Cambodia\", \"Philippines\": \"Philippines\",\n",
    "    \"Mexico\": \"Mexico\", \"Canada\": \"Canada\", \"USA\": \"USA\",\n",
    "    \"Ghana\": \"Ghana\", \"Nigeria\": \"Nigeria\",\n",
    "    \"Germany\": \"Germany\", \"Hungary\": \"Hungary\", \"UK\": \"UK\", \"Netherlands\": \"Netherlands\", \"Finland\": \"Finland\", \"Sweden\": \"Sweden\", \"Estonia\": \"Estonia\", \"Holland\": \"Holland\", \"Poland\": \"Poland\",\n",
    "    \"Fiji\": \"Fiji\", \"Australia\": \"Australia\",\n",
    "    \"Brazil\": \"Brazil\", \"Colombia\": \"Colombia\"\n",
    "}\n",
    "\n",
    "ramen_df[\"Country\"] = ramen_df[\"Country\"].map(countries_dict)\n",
    "ramen_df[\"Country\"].unique()"
   ]
  },
  {
   "cell_type": "markdown",
   "metadata": {},
   "source": [
    "### 3. Does the amount of instant noodles that a country consumes correlate to the volume of countries present in the Ramen Ratings dataset and their respective average ramen ratings?\n",
    "For this question, we want to analyze if there is a correlation between the amount of instant noodles a country consumes, and the frequency of the countries present in Ramen Rater's dataset. Furthermore, we also want to analyze if there is a correlation between the amount of instant noodles a country consumes, and the average rating for each country."
   ]
  },
  {
   "cell_type": "markdown",
   "metadata": {},
   "source": [
    "Let us first load a new .csv file, this time the 2019 data from the World Instant Noodles Association (WINA) that tracked the global demand of instant noodles and tabulated it to form a top 10:"
   ]
  },
  {
   "cell_type": "code",
   "execution_count": 5,
   "metadata": {},
   "outputs": [
    {
     "data": {
      "text/html": [
       "<div>\n",
       "<style scoped>\n",
       "    .dataframe tbody tr th:only-of-type {\n",
       "        vertical-align: middle;\n",
       "    }\n",
       "\n",
       "    .dataframe tbody tr th {\n",
       "        vertical-align: top;\n",
       "    }\n",
       "\n",
       "    .dataframe thead th {\n",
       "        text-align: right;\n",
       "    }\n",
       "</style>\n",
       "<table border=\"1\" class=\"dataframe\">\n",
       "  <thead>\n",
       "    <tr style=\"text-align: right;\">\n",
       "      <th></th>\n",
       "      <th>Rank</th>\n",
       "      <th>Country</th>\n",
       "      <th>2019</th>\n",
       "    </tr>\n",
       "  </thead>\n",
       "  <tbody>\n",
       "    <tr>\n",
       "      <th>0</th>\n",
       "      <td>1</td>\n",
       "      <td>China/Hong Kong</td>\n",
       "      <td>41450</td>\n",
       "    </tr>\n",
       "    <tr>\n",
       "      <th>1</th>\n",
       "      <td>2</td>\n",
       "      <td>Indonesia</td>\n",
       "      <td>12520</td>\n",
       "    </tr>\n",
       "    <tr>\n",
       "      <th>2</th>\n",
       "      <td>3</td>\n",
       "      <td>India</td>\n",
       "      <td>6730</td>\n",
       "    </tr>\n",
       "    <tr>\n",
       "      <th>3</th>\n",
       "      <td>4</td>\n",
       "      <td>Japan</td>\n",
       "      <td>5630</td>\n",
       "    </tr>\n",
       "    <tr>\n",
       "      <th>4</th>\n",
       "      <td>5</td>\n",
       "      <td>Viet Nam</td>\n",
       "      <td>5430</td>\n",
       "    </tr>\n",
       "  </tbody>\n",
       "</table>\n",
       "</div>"
      ],
      "text/plain": [
       "  Rank          Country   2019\n",
       "0    1  China/Hong Kong  41450\n",
       "1    2        Indonesia  12520\n",
       "2    3            India   6730\n",
       "3    4            Japan   5630\n",
       "4    5         Viet Nam   5430"
      ]
     },
     "execution_count": 5,
     "metadata": {},
     "output_type": "execute_result"
    }
   ],
   "source": [
    "wina_df = pd.read_csv(\"./wina-data.csv\")\n",
    "wina_df[\"2019\"] = pd.to_numeric(wina_df[\"2019\"], errors=\"coerce\")\n",
    "wina_df.head()"
   ]
  },
  {
   "cell_type": "markdown",
   "metadata": {},
   "source": [
    "We'll only be factoring in the 2019 data of instant noodles consumption to account for recency. Furthermore, we will be getting only the top 9 instant ramen consumers (supposed to be top 10 but the 10th place belongs to Brazil, a South American country, when we're only focusing on Asia, North America, and Europe)."
   ]
  },
  {
   "cell_type": "code",
   "execution_count": 6,
   "metadata": {},
   "outputs": [
    {
     "name": "stdout",
     "output_type": "stream",
     "text": [
      "<class 'pandas.core.frame.DataFrame'>\n",
      "RangeIndex: 9 entries, 0 to 8\n",
      "Data columns (total 3 columns):\n",
      " #   Column   Non-Null Count  Dtype \n",
      "---  ------   --------------  ----- \n",
      " 0   Rank     9 non-null      object\n",
      " 1   Country  9 non-null      object\n",
      " 2   2019     9 non-null      int64 \n",
      "dtypes: int64(1), object(2)\n",
      "memory usage: 344.0+ bytes\n"
     ]
    },
    {
     "data": {
      "text/html": [
       "<div>\n",
       "<style scoped>\n",
       "    .dataframe tbody tr th:only-of-type {\n",
       "        vertical-align: middle;\n",
       "    }\n",
       "\n",
       "    .dataframe tbody tr th {\n",
       "        vertical-align: top;\n",
       "    }\n",
       "\n",
       "    .dataframe thead th {\n",
       "        text-align: right;\n",
       "    }\n",
       "</style>\n",
       "<table border=\"1\" class=\"dataframe\">\n",
       "  <thead>\n",
       "    <tr style=\"text-align: right;\">\n",
       "      <th></th>\n",
       "      <th>Rank</th>\n",
       "      <th>Country</th>\n",
       "      <th>2019</th>\n",
       "    </tr>\n",
       "  </thead>\n",
       "  <tbody>\n",
       "    <tr>\n",
       "      <th>0</th>\n",
       "      <td>1</td>\n",
       "      <td>China/Hong Kong</td>\n",
       "      <td>41450</td>\n",
       "    </tr>\n",
       "    <tr>\n",
       "      <th>1</th>\n",
       "      <td>2</td>\n",
       "      <td>Indonesia</td>\n",
       "      <td>12520</td>\n",
       "    </tr>\n",
       "    <tr>\n",
       "      <th>2</th>\n",
       "      <td>3</td>\n",
       "      <td>India</td>\n",
       "      <td>6730</td>\n",
       "    </tr>\n",
       "    <tr>\n",
       "      <th>3</th>\n",
       "      <td>4</td>\n",
       "      <td>Japan</td>\n",
       "      <td>5630</td>\n",
       "    </tr>\n",
       "    <tr>\n",
       "      <th>4</th>\n",
       "      <td>5</td>\n",
       "      <td>Viet Nam</td>\n",
       "      <td>5430</td>\n",
       "    </tr>\n",
       "    <tr>\n",
       "      <th>5</th>\n",
       "      <td>6</td>\n",
       "      <td>USA</td>\n",
       "      <td>4630</td>\n",
       "    </tr>\n",
       "    <tr>\n",
       "      <th>6</th>\n",
       "      <td>7</td>\n",
       "      <td>Republic of Korea</td>\n",
       "      <td>3900</td>\n",
       "    </tr>\n",
       "    <tr>\n",
       "      <th>7</th>\n",
       "      <td>8</td>\n",
       "      <td>Philippines</td>\n",
       "      <td>3850</td>\n",
       "    </tr>\n",
       "    <tr>\n",
       "      <th>8</th>\n",
       "      <td>9</td>\n",
       "      <td>Thailand</td>\n",
       "      <td>3570</td>\n",
       "    </tr>\n",
       "  </tbody>\n",
       "</table>\n",
       "</div>"
      ],
      "text/plain": [
       "  Rank            Country   2019\n",
       "0    1    China/Hong Kong  41450\n",
       "1    2          Indonesia  12520\n",
       "2    3              India   6730\n",
       "3    4              Japan   5630\n",
       "4    5           Viet Nam   5430\n",
       "5    6                USA   4630\n",
       "6    7  Republic of Korea   3900\n",
       "7    8        Philippines   3850\n",
       "8    9           Thailand   3570"
      ]
     },
     "execution_count": 6,
     "metadata": {},
     "output_type": "execute_result"
    }
   ],
   "source": [
    "wina_top_df = wina_df.head(9)\n",
    "wina_top_df.info()\n",
    "wina_top_df"
   ]
  },
  {
   "cell_type": "markdown",
   "metadata": {},
   "source": [
    "We're seeing some country names that are contrary to the ones we have in the Ramen Ratings dataset. To make the integration smoother, let us map the data now:"
   ]
  },
  {
   "cell_type": "code",
   "execution_count": 7,
   "metadata": {},
   "outputs": [
    {
     "data": {
      "text/plain": [
       "array(['China/Hong Kong', 'Indonesia', 'India', 'Japan', 'Vietnam', 'USA',\n",
       "       'South Korea', 'Philippines', 'Thailand'], dtype=object)"
      ]
     },
     "execution_count": 7,
     "metadata": {},
     "output_type": "execute_result"
    }
   ],
   "source": [
    "countries_dict = {\n",
    "    \"China/Hong Kong\": \"China/Hong Kong\", \"Indonesia\": \"Indonesia\", \"India\": \"India\", \"Japan\": \"Japan\", \"Viet Nam\": \"Vietnam\", \"USA\":\"USA\", \"Republic of Korea\": \"South Korea\", \"Philippines\": \"Philippines\", \"Thailand\": \"Thailand\"\n",
    "}\n",
    "\n",
    "wina_top_df[\"Country\"] = wina_top_df[\"Country\"].map(countries_dict)\n",
    "wina_top_df[\"Country\"].unique()"
   ]
  },
  {
   "cell_type": "markdown",
   "metadata": {},
   "source": [
    "Let's now compute for the mean average and count of each country relative to the Ramen Ratings dataset. The countries we will user are the ones part of the top 9 in the WINA dataset."
   ]
  },
  {
   "cell_type": "code",
   "execution_count": 8,
   "metadata": {},
   "outputs": [],
   "source": [
    "cnhk_df = ramen_df[ramen_df[\"Country\"] == \"China/Hong Kong\"]\n",
    "cnhk_cnt = len(cnhk_df)\n",
    "cnhk_avg = cnhk_df[\"Stars\"].mean()\n",
    "\n",
    "indo_df = ramen_df[ramen_df[\"Country\"] == \"Indonesia\"]\n",
    "indo_cnt = len(indo_df)\n",
    "indo_avg = indo_df[\"Stars\"].mean()\n",
    "\n",
    "indi_df = ramen_df[ramen_df[\"Country\"] == \"India\"]\n",
    "indi_cnt = len(indi_df)\n",
    "indi_avg = indi_df[\"Stars\"].mean()\n",
    "\n",
    "jp_df = ramen_df[ramen_df[\"Country\"] == \"Japan\"]\n",
    "jp_cnt = len(jp_df)\n",
    "jp_avg = jp_df[\"Stars\"].mean()\n",
    "\n",
    "vt_df = ramen_df[ramen_df[\"Country\"] == \"Vietnam\"]\n",
    "vt_cnt = len(vt_df)\n",
    "vt_avg = vt_df[\"Stars\"].mean()\n",
    "\n",
    "usa_df = ramen_df[ramen_df[\"Country\"] == \"USA\"]\n",
    "usa_cnt = len(usa_df)\n",
    "usa_avg = usa_df[\"Stars\"].mean()\n",
    "\n",
    "sk_df = ramen_df[ramen_df[\"Country\"] == \"South Korea\"]\n",
    "sk_cnt = len(sk_df)\n",
    "sk_avg = sk_df[\"Stars\"].mean()\n",
    "\n",
    "ph_df = ramen_df[ramen_df[\"Country\"] == \"Philippines\"]\n",
    "ph_cnt = len(ph_df)\n",
    "ph_avg = ph_df[\"Stars\"].mean()\n",
    "\n",
    "th_df = ramen_df[ramen_df[\"Country\"] == \"Thailand\"]\n",
    "th_cnt = len(th_df)\n",
    "th_avg = th_df[\"Stars\"].mean()"
   ]
  },
  {
   "cell_type": "markdown",
   "metadata": {},
   "source": [
    "Now that all of that handled, let's start analyzing the data. We'll make a new dataframe to relate the country frequency in Ramen Ratings, and the demand for instant noodles in those countries. Afterwards, the scatterplot to visually determine if there's a correlation or not."
   ]
  },
  {
   "cell_type": "code",
   "execution_count": 9,
   "metadata": {},
   "outputs": [
    {
     "data": {
      "text/html": [
       "<div>\n",
       "<style scoped>\n",
       "    .dataframe tbody tr th:only-of-type {\n",
       "        vertical-align: middle;\n",
       "    }\n",
       "\n",
       "    .dataframe tbody tr th {\n",
       "        vertical-align: top;\n",
       "    }\n",
       "\n",
       "    .dataframe thead th {\n",
       "        text-align: right;\n",
       "    }\n",
       "</style>\n",
       "<table border=\"1\" class=\"dataframe\">\n",
       "  <thead>\n",
       "    <tr style=\"text-align: right;\">\n",
       "      <th></th>\n",
       "      <th>Country</th>\n",
       "      <th>Count</th>\n",
       "      <th>Demand</th>\n",
       "    </tr>\n",
       "  </thead>\n",
       "  <tbody>\n",
       "    <tr>\n",
       "      <th>0</th>\n",
       "      <td>China/Hong Kong</td>\n",
       "      <td>306</td>\n",
       "      <td>41450</td>\n",
       "    </tr>\n",
       "    <tr>\n",
       "      <th>1</th>\n",
       "      <td>Indonesia</td>\n",
       "      <td>126</td>\n",
       "      <td>12520</td>\n",
       "    </tr>\n",
       "    <tr>\n",
       "      <th>2</th>\n",
       "      <td>India</td>\n",
       "      <td>31</td>\n",
       "      <td>6730</td>\n",
       "    </tr>\n",
       "    <tr>\n",
       "      <th>3</th>\n",
       "      <td>Japan</td>\n",
       "      <td>352</td>\n",
       "      <td>5630</td>\n",
       "    </tr>\n",
       "    <tr>\n",
       "      <th>4</th>\n",
       "      <td>Vietnam</td>\n",
       "      <td>108</td>\n",
       "      <td>5430</td>\n",
       "    </tr>\n",
       "    <tr>\n",
       "      <th>5</th>\n",
       "      <td>USA</td>\n",
       "      <td>324</td>\n",
       "      <td>4630</td>\n",
       "    </tr>\n",
       "    <tr>\n",
       "      <th>6</th>\n",
       "      <td>South Korea</td>\n",
       "      <td>307</td>\n",
       "      <td>3900</td>\n",
       "    </tr>\n",
       "    <tr>\n",
       "      <th>7</th>\n",
       "      <td>Philippines</td>\n",
       "      <td>47</td>\n",
       "      <td>3850</td>\n",
       "    </tr>\n",
       "    <tr>\n",
       "      <th>8</th>\n",
       "      <td>Thailand</td>\n",
       "      <td>191</td>\n",
       "      <td>3570</td>\n",
       "    </tr>\n",
       "  </tbody>\n",
       "</table>\n",
       "</div>"
      ],
      "text/plain": [
       "           Country  Count  Demand\n",
       "0  China/Hong Kong    306   41450\n",
       "1        Indonesia    126   12520\n",
       "2            India     31    6730\n",
       "3            Japan    352    5630\n",
       "4          Vietnam    108    5430\n",
       "5              USA    324    4630\n",
       "6      South Korea    307    3900\n",
       "7      Philippines     47    3850\n",
       "8         Thailand    191    3570"
      ]
     },
     "execution_count": 9,
     "metadata": {},
     "output_type": "execute_result"
    }
   ],
   "source": [
    "wina_cnt = pd.DataFrame({\n",
    "    \"Country\": [\"China/Hong Kong\", \"Indonesia\", \"India\", \"Japan\", \"Vietnam\", \"USA\", \"South Korea\", \"Philippines\", \"Thailand\"],\n",
    "    \"Count\": [cnhk_cnt, indo_cnt, indi_cnt, jp_cnt, vt_cnt, usa_cnt, sk_cnt, ph_cnt, th_cnt],\n",
    "    \"Demand\": wina_top_df[\"2019\"]\n",
    "})\n",
    "wina_cnt"
   ]
  },
  {
   "cell_type": "code",
   "execution_count": 10,
   "metadata": {},
   "outputs": [
    {
     "data": {
      "text/plain": [
       "Text(0.5, 1.0, 'Scatterplot of the frequency of a country in Ramen Ratings, and the demand for instant noodles in a country')"
      ]
     },
     "execution_count": 10,
     "metadata": {},
     "output_type": "execute_result"
    },
    {
     "data": {
      "image/png": "[encoded data removed]",
      "text/plain": [
       "<Figure size 432x288 with 1 Axes>"
      ]
     },
     "metadata": {
      "needs_background": "light"
     },
     "output_type": "display_data"
    }
   ],
   "source": [
    "plt.plot(wina_cnt[\"Count\"], wina_cnt[\"Demand\"], \"+\")\n",
    "plt.xlabel(\"Count\")\n",
    "plt.ylabel(\"Demand\")\n",
    "plt.title(\"Scatterplot of the frequency of a country in Ramen Ratings, and the demand for instant noodles in a country\")"
   ]
  },
  {
   "cell_type": "markdown",
   "metadata": {},
   "source": [
    "We'll do the very same for the correlation between the average rating of the countries in Ramen Ratings, and the demand for instant noodles in those countries."
   ]
  },
  {
   "cell_type": "code",
   "execution_count": 11,
   "metadata": {},
   "outputs": [
    {
     "data": {
      "text/html": [
       "<div>\n",
       "<style scoped>\n",
       "    .dataframe tbody tr th:only-of-type {\n",
       "        vertical-align: middle;\n",
       "    }\n",
       "\n",
       "    .dataframe tbody tr th {\n",
       "        vertical-align: top;\n",
       "    }\n",
       "\n",
       "    .dataframe thead th {\n",
       "        text-align: right;\n",
       "    }\n",
       "</style>\n",
       "<table border=\"1\" class=\"dataframe\">\n",
       "  <thead>\n",
       "    <tr style=\"text-align: right;\">\n",
       "      <th></th>\n",
       "      <th>Country</th>\n",
       "      <th>Average Rating</th>\n",
       "      <th>Demand</th>\n",
       "    </tr>\n",
       "  </thead>\n",
       "  <tbody>\n",
       "    <tr>\n",
       "      <th>0</th>\n",
       "      <td>China/Hong Kong</td>\n",
       "      <td>3.591993</td>\n",
       "      <td>41450</td>\n",
       "    </tr>\n",
       "    <tr>\n",
       "      <th>1</th>\n",
       "      <td>Indonesia</td>\n",
       "      <td>4.067460</td>\n",
       "      <td>12520</td>\n",
       "    </tr>\n",
       "    <tr>\n",
       "      <th>2</th>\n",
       "      <td>India</td>\n",
       "      <td>3.395161</td>\n",
       "      <td>6730</td>\n",
       "    </tr>\n",
       "    <tr>\n",
       "      <th>3</th>\n",
       "      <td>Japan</td>\n",
       "      <td>3.981605</td>\n",
       "      <td>5630</td>\n",
       "    </tr>\n",
       "    <tr>\n",
       "      <th>4</th>\n",
       "      <td>Vietnam</td>\n",
       "      <td>3.187963</td>\n",
       "      <td>5430</td>\n",
       "    </tr>\n",
       "    <tr>\n",
       "      <th>5</th>\n",
       "      <td>USA</td>\n",
       "      <td>3.457948</td>\n",
       "      <td>4630</td>\n",
       "    </tr>\n",
       "    <tr>\n",
       "      <th>6</th>\n",
       "      <td>South Korea</td>\n",
       "      <td>3.790554</td>\n",
       "      <td>3900</td>\n",
       "    </tr>\n",
       "    <tr>\n",
       "      <th>7</th>\n",
       "      <td>Philippines</td>\n",
       "      <td>3.329787</td>\n",
       "      <td>3850</td>\n",
       "    </tr>\n",
       "    <tr>\n",
       "      <th>8</th>\n",
       "      <td>Thailand</td>\n",
       "      <td>3.384817</td>\n",
       "      <td>3570</td>\n",
       "    </tr>\n",
       "  </tbody>\n",
       "</table>\n",
       "</div>"
      ],
      "text/plain": [
       "           Country  Average Rating  Demand\n",
       "0  China/Hong Kong        3.591993   41450\n",
       "1        Indonesia        4.067460   12520\n",
       "2            India        3.395161    6730\n",
       "3            Japan        3.981605    5630\n",
       "4          Vietnam        3.187963    5430\n",
       "5              USA        3.457948    4630\n",
       "6      South Korea        3.790554    3900\n",
       "7      Philippines        3.329787    3850\n",
       "8         Thailand        3.384817    3570"
      ]
     },
     "execution_count": 11,
     "metadata": {},
     "output_type": "execute_result"
    }
   ],
   "source": [
    "wina_avg = pd.DataFrame({\n",
    "    \"Country\": [\"China/Hong Kong\", \"Indonesia\", \"India\", \"Japan\", \"Vietnam\", \"USA\", \"South Korea\", \"Philippines\", \"Thailand\"],\n",
    "    \"Average Rating\": [cnhk_avg, indo_avg, indi_avg, jp_avg, vt_avg, usa_avg, sk_avg, ph_avg, th_avg],\n",
    "    \"Demand\": wina_top_df[\"2019\"]\n",
    "})\n",
    "wina_avg"
   ]
  },
  {
   "cell_type": "code",
   "execution_count": 12,
   "metadata": {},
   "outputs": [
    {
     "data": {
      "text/plain": [
       "Text(0.5, 1.0, 'Scatterplot of the average rating of a country in Ramen Ratings, and the demand for instant noodles in a country')"
      ]
     },
     "execution_count": 12,
     "metadata": {},
     "output_type": "execute_result"
    },
    {
     "data": {
      "image/png": "[encoded data removed]",
      "text/plain": [
       "<Figure size 432x288 with 1 Axes>"
      ]
     },
     "metadata": {
      "needs_background": "light"
     },
     "output_type": "display_data"
    }
   ],
   "source": [
    "plt.plot(wina_avg[\"Average Rating\"], wina_cnt[\"Demand\"], \"+\")\n",
    "plt.xlabel(\"Average Rating\")\n",
    "plt.ylabel(\"Demand\")\n",
    "plt.title(\"Scatterplot of the average rating of a country in Ramen Ratings, and the demand for instant noodles in a country\")"
   ]
  }
 ],
 "metadata": {
  "kernelspec": {
   "display_name": "Python 3",
   "language": "python",
   "name": "python3"
  },
  "language_info": {
   "codemirror_mode": {
    "name": "ipython",
    "version": 3
   },
   "file_extension": ".py",
   "mimetype": "text/x-python",
   "name": "python",
   "nbconvert_exporter": "python",
   "pygments_lexer": "ipython3",
   "version": "3.7.6"
  }
 },
 "nbformat": 4,
 "nbformat_minor": 4
}
