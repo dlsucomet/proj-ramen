{
 "cells": [
  {
   "cell_type": "code",
   "execution_count": 1,
   "metadata": {},
   "outputs": [],
   "source": [
    "# Imports\n",
    "import numpy as np\n",
    "import pandas as pd\n",
    "import matplotlib.pyplot as plt\n",
    "\n",
    "import warnings\n",
    "warnings.filterwarnings('ignore')"
   ]
  },
  {
   "cell_type": "code",
   "execution_count": 2,
   "metadata": {},
   "outputs": [
    {
     "name": "stdout",
     "output_type": "stream",
     "text": [
      "<class 'pandas.core.frame.DataFrame'>\n",
      "RangeIndex: 2580 entries, 0 to 2579\n",
      "Data columns (total 7 columns):\n",
      " #   Column    Non-Null Count  Dtype \n",
      "---  ------    --------------  ----- \n",
      " 0   Review #  2580 non-null   int64 \n",
      " 1   Brand     2580 non-null   object\n",
      " 2   Variety   2580 non-null   object\n",
      " 3   Style     2578 non-null   object\n",
      " 4   Country   2580 non-null   object\n",
      " 5   Stars     2580 non-null   object\n",
      " 6   Top Ten   41 non-null     object\n",
      "dtypes: int64(1), object(6)\n",
      "memory usage: 141.2+ KB\n"
     ]
    }
   ],
   "source": [
    "# Data Retrieval\n",
    "ramen_df = pd.read_csv(\"./ramen-ratings.csv\")\n",
    "ramen_df.info()"
   ]
  },
  {
   "cell_type": "code",
   "execution_count": 3,
   "metadata": {},
   "outputs": [
    {
     "name": "stdout",
     "output_type": "stream",
     "text": [
      "<class 'pandas.core.frame.DataFrame'>\n",
      "RangeIndex: 2577 entries, 0 to 2576\n",
      "Data columns (total 8 columns):\n",
      " #   Column    Non-Null Count  Dtype  \n",
      "---  ------    --------------  -----  \n",
      " 0   index     2577 non-null   int64  \n",
      " 1   Review #  2577 non-null   int64  \n",
      " 2   Brand     2577 non-null   object \n",
      " 3   Variety   2577 non-null   object \n",
      " 4   Style     2575 non-null   object \n",
      " 5   Country   2577 non-null   object \n",
      " 6   Stars     2577 non-null   float64\n",
      " 7   Top Ten   41 non-null     object \n",
      "dtypes: float64(1), int64(2), object(5)\n",
      "memory usage: 161.2+ KB\n"
     ]
    }
   ],
   "source": [
    "# Data Cleaning\n",
    "ramen_df.drop(ramen_df[ramen_df[\"Stars\"] == \"Unrated\"].index, inplace=True)\n",
    "ramen_df.reset_index(inplace=True)\n",
    "ramen_df[\"Stars\"] = pd.to_numeric(ramen_df[\"Stars\"], errors='coerce')\n",
    "ramen_df.info()"
   ]
  },
  {
   "cell_type": "markdown",
   "metadata": {},
   "source": [
    "### 1. Which continents makes the best ramen?\n",
    "To be able to answer this question, the countries of each ramen entry in the dataset need to be grouped in their continents. From their accumulated average rating, we can determine which continents are on top of their ramen game."
   ]
  },
  {
   "cell_type": "markdown",
   "metadata": {},
   "source": [
    "First, we must determine the continents in which these countries belong. Let us determine the unique countries."
   ]
  },
  {
   "cell_type": "code",
   "execution_count": 4,
   "metadata": {},
   "outputs": [
    {
     "data": {
      "text/plain": [
       "array(['Japan', 'Taiwan', 'USA', 'India', 'South Korea', 'Singapore',\n",
       "       'Thailand', 'Hong Kong', 'Vietnam', 'Ghana', 'Malaysia',\n",
       "       'Indonesia', 'China', 'Nigeria', 'Germany', 'Hungary', 'Mexico',\n",
       "       'Fiji', 'Australia', 'Pakistan', 'Bangladesh', 'Canada', 'Nepal',\n",
       "       'Brazil', 'UK', 'Myanmar', 'Netherlands', 'United States',\n",
       "       'Cambodia', 'Finland', 'Sarawak', 'Philippines', 'Sweden',\n",
       "       'Colombia', 'Estonia', 'Holland', 'Poland', 'Dubai'], dtype=object)"
      ]
     },
     "execution_count": 4,
     "metadata": {},
     "output_type": "execute_result"
    }
   ],
   "source": [
    "ramen_df[\"Country\"].unique()"
   ]
  },
  {
   "cell_type": "markdown",
   "metadata": {},
   "source": [
    "We're seeing some duplicate countries, as well as some special administrative regions under other countries, so let us perform some mapping for the `Country` column."
   ]
  },
  {
   "cell_type": "code",
   "execution_count": 5,
   "metadata": {},
   "outputs": [
    {
     "data": {
      "text/plain": [
       "array(['Japan', 'Taiwan', 'USA', 'India', 'South Korea', 'Singapore',\n",
       "       'Thailand', 'China/Hong Kong', 'Vietnam', 'Ghana', 'Malaysia',\n",
       "       'Indonesia', 'Nigeria', 'Germany', 'Hungary', 'Mexico', 'Fiji',\n",
       "       'Australia', 'Pakistan', 'Bangladesh', 'Canada', 'Nepal', 'Brazil',\n",
       "       'UK', 'Myanmar', 'Netherlands', 'Cambodia', 'Finland',\n",
       "       'Philippines', 'Sweden', 'Colombia', 'Estonia', 'Holland',\n",
       "       'Poland', 'UAE'], dtype=object)"
      ]
     },
     "execution_count": 5,
     "metadata": {},
     "output_type": "execute_result"
    }
   ],
   "source": [
    "countries_dict = {\n",
    "    \"United States\": \"USA\", \"Hong Kong\": \"China/Hong Kong\", \"China\": \"China/Hong Kong\", \"Dubai\": \"UAE\", \"Sarawak\": \"Malaysia\",\n",
    "    \"Japan\": \"Japan\", \"Taiwan\": \"Taiwan\", \"India\": \"India\", \"South Korea\": \"South Korea\", \"Singapore\": \"Singapore\", \"Thailand\": \"Thailand\", \"Vietnam\": \"Vietnam\", \"Malaysia\": \"Malaysia\", \"Indonesia\": \"Indonesia\", \"Pakistan\": \"Pakistan\", \"Bangladesh\": \"Bangladesh\", \"Nepal\": \"Nepal\", \"Myanmar\": \"Myanmar\", \"Cambodia\": \"Cambodia\", \"Philippines\": \"Philippines\",\n",
    "    \"Mexico\": \"Mexico\", \"Canada\": \"Canada\", \"USA\": \"USA\",\n",
    "    \"Ghana\": \"Ghana\", \"Nigeria\": \"Nigeria\",\n",
    "    \"Germany\": \"Germany\", \"Hungary\": \"Hungary\", \"UK\": \"UK\", \"Netherlands\": \"Netherlands\", \"Finland\": \"Finland\", \"Sweden\": \"Sweden\", \"Estonia\": \"Estonia\", \"Holland\": \"Holland\", \"Poland\": \"Poland\",\n",
    "    \"Fiji\": \"Fiji\", \"Australia\": \"Australia\",\n",
    "    \"Brazil\": \"Brazil\", \"Colombia\": \"Colombia\"\n",
    "}\n",
    "\n",
    "ramen_df[\"Country\"] = ramen_df[\"Country\"].map(countries_dict)\n",
    "ramen_df[\"Country\"].unique()"
   ]
  },
  {
   "cell_type": "markdown",
   "metadata": {},
   "source": [
    "Since there are only 35 countries, it is manageable to assign continents to the country of each entry."
   ]
  },
  {
   "cell_type": "code",
   "execution_count": 6,
   "metadata": {},
   "outputs": [
    {
     "data": {
      "text/html": [
       "<div>\n",
       "<style scoped>\n",
       "    .dataframe tbody tr th:only-of-type {\n",
       "        vertical-align: middle;\n",
       "    }\n",
       "\n",
       "    .dataframe tbody tr th {\n",
       "        vertical-align: top;\n",
       "    }\n",
       "\n",
       "    .dataframe thead th {\n",
       "        text-align: right;\n",
       "    }\n",
       "</style>\n",
       "<table border=\"1\" class=\"dataframe\">\n",
       "  <thead>\n",
       "    <tr style=\"text-align: right;\">\n",
       "      <th></th>\n",
       "      <th>index</th>\n",
       "      <th>Review #</th>\n",
       "      <th>Brand</th>\n",
       "      <th>Variety</th>\n",
       "      <th>Style</th>\n",
       "      <th>Country</th>\n",
       "      <th>Stars</th>\n",
       "      <th>Top Ten</th>\n",
       "      <th>Continent</th>\n",
       "    </tr>\n",
       "  </thead>\n",
       "  <tbody>\n",
       "    <tr>\n",
       "      <th>0</th>\n",
       "      <td>0</td>\n",
       "      <td>2580</td>\n",
       "      <td>New Touch</td>\n",
       "      <td>T's Restaurant Tantanmen</td>\n",
       "      <td>Cup</td>\n",
       "      <td>Japan</td>\n",
       "      <td>3.75</td>\n",
       "      <td>NaN</td>\n",
       "      <td>Asia</td>\n",
       "    </tr>\n",
       "    <tr>\n",
       "      <th>1</th>\n",
       "      <td>1</td>\n",
       "      <td>2579</td>\n",
       "      <td>Just Way</td>\n",
       "      <td>Noodles Spicy Hot Sesame Spicy Hot Sesame Guan...</td>\n",
       "      <td>Pack</td>\n",
       "      <td>Taiwan</td>\n",
       "      <td>1.00</td>\n",
       "      <td>NaN</td>\n",
       "      <td>Asia</td>\n",
       "    </tr>\n",
       "    <tr>\n",
       "      <th>2</th>\n",
       "      <td>2</td>\n",
       "      <td>2578</td>\n",
       "      <td>Nissin</td>\n",
       "      <td>Cup Noodles Chicken Vegetable</td>\n",
       "      <td>Cup</td>\n",
       "      <td>USA</td>\n",
       "      <td>2.25</td>\n",
       "      <td>NaN</td>\n",
       "      <td>North America</td>\n",
       "    </tr>\n",
       "    <tr>\n",
       "      <th>3</th>\n",
       "      <td>3</td>\n",
       "      <td>2577</td>\n",
       "      <td>Wei Lih</td>\n",
       "      <td>GGE Ramen Snack Tomato Flavor</td>\n",
       "      <td>Pack</td>\n",
       "      <td>Taiwan</td>\n",
       "      <td>2.75</td>\n",
       "      <td>NaN</td>\n",
       "      <td>Asia</td>\n",
       "    </tr>\n",
       "    <tr>\n",
       "      <th>4</th>\n",
       "      <td>4</td>\n",
       "      <td>2576</td>\n",
       "      <td>Ching's Secret</td>\n",
       "      <td>Singapore Curry</td>\n",
       "      <td>Pack</td>\n",
       "      <td>India</td>\n",
       "      <td>3.75</td>\n",
       "      <td>NaN</td>\n",
       "      <td>Asia</td>\n",
       "    </tr>\n",
       "  </tbody>\n",
       "</table>\n",
       "</div>"
      ],
      "text/plain": [
       "   index  Review #           Brand  \\\n",
       "0      0      2580       New Touch   \n",
       "1      1      2579        Just Way   \n",
       "2      2      2578          Nissin   \n",
       "3      3      2577         Wei Lih   \n",
       "4      4      2576  Ching's Secret   \n",
       "\n",
       "                                             Variety Style Country  Stars  \\\n",
       "0                          T's Restaurant Tantanmen    Cup   Japan   3.75   \n",
       "1  Noodles Spicy Hot Sesame Spicy Hot Sesame Guan...  Pack  Taiwan   1.00   \n",
       "2                      Cup Noodles Chicken Vegetable   Cup     USA   2.25   \n",
       "3                      GGE Ramen Snack Tomato Flavor  Pack  Taiwan   2.75   \n",
       "4                                    Singapore Curry  Pack   India   3.75   \n",
       "\n",
       "  Top Ten      Continent  \n",
       "0     NaN           Asia  \n",
       "1     NaN           Asia  \n",
       "2     NaN  North America  \n",
       "3     NaN           Asia  \n",
       "4     NaN           Asia  "
      ]
     },
     "execution_count": 6,
     "metadata": {},
     "output_type": "execute_result"
    }
   ],
   "source": [
    "asia = [\"Japan\", \"Taiwan\", \"India\", \"South Korea\", \"Singapore\", \"Thailand\", \"Hong Kong\", \"Vietnam\", \"Malaysia\", \"Indonesia\", \"China/Hong Kong\", \"Pakistan\", \"Bangladesh\", \"Nepal\", \"Myanmar\", \"Cambodia\", \"Philippines\", \"UAE\"]\n",
    "northam = [\"USA\", \"Mexico\", \"Canada\"]\n",
    "africa = [\"Ghana\", \"Nigeria\"]\n",
    "europe = [\"Germany\", \"Hungary\", \"UK\", \"Netherlands\", \"Finland\", \"Sweden\", \"Estonia\", \"Holland\", \"Poland\"]\n",
    "australia = [\"Fiji\", \"Australia\"]\n",
    "southam = [\"Brazil\", \"Colombia\"]\n",
    "\n",
    "continents = []\n",
    "\n",
    "for i in range(len(ramen_df)):\n",
    "    if ramen_df[\"Country\"][i] in asia:\n",
    "        continents.append(\"Asia\")\n",
    "    elif ramen_df[\"Country\"][i] in northam:\n",
    "        continents.append(\"North America\")\n",
    "    elif ramen_df[\"Country\"][i] in africa:\n",
    "        continents.append(\"Africa\")\n",
    "    elif ramen_df[\"Country\"][i] in europe:\n",
    "        continents.append(\"Europe\")\n",
    "    elif ramen_df[\"Country\"][i] in australia:\n",
    "        continents.append(\"Australia and Oceania\")\n",
    "    elif ramen_df[\"Country\"][i] in southam:\n",
    "        continents.append(\"South America\")\n",
    "        \n",
    "ramen_df[\"Continent\"] = continents\n",
    "ramen_df.head()"
   ]
  },
  {
   "cell_type": "markdown",
   "metadata": {},
   "source": [
    "Now that we have determined the continent for the country of each ramen entry, let us look at the numbers for each continent to see which ones are worth analyzing."
   ]
  },
  {
   "cell_type": "code",
   "execution_count": 7,
   "metadata": {},
   "outputs": [
    {
     "data": {
      "text/html": [
       "<div>\n",
       "<style scoped>\n",
       "    .dataframe tbody tr th:only-of-type {\n",
       "        vertical-align: middle;\n",
       "    }\n",
       "\n",
       "    .dataframe tbody tr th {\n",
       "        vertical-align: top;\n",
       "    }\n",
       "\n",
       "    .dataframe thead tr th {\n",
       "        text-align: left;\n",
       "    }\n",
       "\n",
       "    .dataframe thead tr:last-of-type th {\n",
       "        text-align: right;\n",
       "    }\n",
       "</style>\n",
       "<table border=\"1\" class=\"dataframe\">\n",
       "  <thead>\n",
       "    <tr>\n",
       "      <th></th>\n",
       "      <th>Continent</th>\n",
       "    </tr>\n",
       "    <tr>\n",
       "      <th></th>\n",
       "      <th>count</th>\n",
       "    </tr>\n",
       "    <tr>\n",
       "      <th>Continent</th>\n",
       "      <th></th>\n",
       "    </tr>\n",
       "  </thead>\n",
       "  <tbody>\n",
       "    <tr>\n",
       "      <th>Africa</th>\n",
       "      <td>3</td>\n",
       "    </tr>\n",
       "    <tr>\n",
       "      <th>Asia</th>\n",
       "      <td>2011</td>\n",
       "    </tr>\n",
       "    <tr>\n",
       "      <th>Australia and Oceania</th>\n",
       "      <td>26</td>\n",
       "    </tr>\n",
       "    <tr>\n",
       "      <th>Europe</th>\n",
       "      <td>136</td>\n",
       "    </tr>\n",
       "    <tr>\n",
       "      <th>North America</th>\n",
       "      <td>390</td>\n",
       "    </tr>\n",
       "    <tr>\n",
       "      <th>South America</th>\n",
       "      <td>11</td>\n",
       "    </tr>\n",
       "  </tbody>\n",
       "</table>\n",
       "</div>"
      ],
      "text/plain": [
       "                      Continent\n",
       "                          count\n",
       "Continent                      \n",
       "Africa                        3\n",
       "Asia                       2011\n",
       "Australia and Oceania        26\n",
       "Europe                      136\n",
       "North America               390\n",
       "South America                11"
      ]
     },
     "execution_count": 7,
     "metadata": {},
     "output_type": "execute_result"
    }
   ],
   "source": [
    "ramen_df.groupby(\"Continent\").agg({\"Continent\": [\"count\"]})"
   ]
  },
  {
   "cell_type": "markdown",
   "metadata": {},
   "source": [
    "Based from the ramen entry count for each continent, we can see that only Asia, Europe, and North America have more than 30 observations, which is the general rule of thumb for the population size of data analysis. For the remainder of this question, let us focus on these three continents."
   ]
  },
  {
   "cell_type": "code",
   "execution_count": 8,
   "metadata": {},
   "outputs": [
    {
     "name": "stdout",
     "output_type": "stream",
     "text": [
      "<class 'pandas.core.frame.DataFrame'>\n",
      "RangeIndex: 2537 entries, 0 to 2536\n",
      "Data columns (total 10 columns):\n",
      " #   Column     Non-Null Count  Dtype  \n",
      "---  ------     --------------  -----  \n",
      " 0   level_0    2537 non-null   int64  \n",
      " 1   index      2537 non-null   int64  \n",
      " 2   Review #   2537 non-null   int64  \n",
      " 3   Brand      2537 non-null   object \n",
      " 4   Variety    2537 non-null   object \n",
      " 5   Style      2535 non-null   object \n",
      " 6   Country    2537 non-null   object \n",
      " 7   Stars      2537 non-null   float64\n",
      " 8   Top Ten    41 non-null     object \n",
      " 9   Continent  2537 non-null   object \n",
      "dtypes: float64(1), int64(3), object(6)\n",
      "memory usage: 198.3+ KB\n"
     ]
    }
   ],
   "source": [
    "# Additional Cleaning\n",
    "ramen_df.drop(ramen_df[(ramen_df[\"Continent\"] == \"Africa\") | (ramen_df[\"Continent\"] == \"Australia and Oceania\") | (ramen_df[\"Continent\"] == \"South America\")].index, inplace=True)\n",
    "ramen_df.reset_index(inplace=True)\n",
    "ramen_df.info()"
   ]
  },
  {
   "cell_type": "code",
   "execution_count": 9,
   "metadata": {},
   "outputs": [
    {
     "data": {
      "text/plain": [
       "Text(0.5, 1.0, 'Top 3 Ramen Continents')"
      ]
     },
     "execution_count": 9,
     "metadata": {},
     "output_type": "execute_result"
    },
    {
     "data": {
      "image/png": "[encoded data removed]",
      "text/plain": [
       "<Figure size 432x288 with 1 Axes>"
      ]
     },
     "metadata": {
      "needs_background": "light"
     },
     "output_type": "display_data"
    }
   ],
   "source": [
    "ramen_continents_df = ramen_df.groupby(\"Continent\").mean().reset_index()\n",
    "\n",
    "plt.bar(range(len(ramen_continents_df)), ramen_continents_df[\"Stars\"])\n",
    "plt.xticks(range(len(ramen_continents_df)), ramen_continents_df[\"Continent\"])\n",
    "plt.ylabel(\"Average Rating\")\n",
    "plt.title(\"Top 3 Ramen Continents\")"
   ]
  }
 ],
 "metadata": {
  "kernelspec": {
   "display_name": "Python 3",
   "language": "python",
   "name": "python3"
  },
  "language_info": {
   "codemirror_mode": {
    "name": "ipython",
    "version": 3
   },
   "file_extension": ".py",
   "mimetype": "text/x-python",
   "name": "python",
   "nbconvert_exporter": "python",
   "pygments_lexer": "ipython3",
   "version": "3.7.6"
  }
 },
 "nbformat": 4,
 "nbformat_minor": 4
}
